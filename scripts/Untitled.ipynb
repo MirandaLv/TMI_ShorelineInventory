{
 "cells": [
  {
   "cell_type": "code",
   "execution_count": 1,
   "id": "2141a124",
   "metadata": {},
   "outputs": [],
   "source": [
    "import os\n",
    "import json\n",
    "import math\n",
    "from datetime import datetime, timedelta\n",
    "from typing import Optional, Union\n",
    "\n",
    "import pandas as pd\n",
    "import requests\n",
    "import geopandas as gpd\n",
    "from shapely.geometry import Point\n"
   ]
  },
  {
   "cell_type": "code",
   "execution_count": 2,
   "id": "38628552",
   "metadata": {},
   "outputs": [],
   "source": [
    "root_path = os.path.abspath('..')\n",
    "bounding_file = os.path.join(root_path, 'data/boundary.geojson')"
   ]
  },
  {
   "cell_type": "code",
   "execution_count": 3,
   "id": "9845f8cb",
   "metadata": {},
   "outputs": [],
   "source": [
    "bound_gdf = gpd.read_file(bounding_file, driver='GeoJSON')"
   ]
  },
  {
   "cell_type": "code",
   "execution_count": 30,
   "id": "40130863",
   "metadata": {},
   "outputs": [],
   "source": [
    "\n",
    "def get_stations_from_bbox():\n",
    "    \"\"\"Return a list of stations IDs found within a bounding box.\n",
    "    Returns:\n",
    "        GeoDataFrame[str]: A geodataframe with all stations' coordinates, id, and name\n",
    "    \"\"\"\n",
    "    \n",
    "    data_url = \"https://api.tidesandcurrents.noaa.gov/mdapi/prod/webapi/stations.json\"\n",
    "    response = requests.get(data_url)\n",
    "    json_dict = response.json()\n",
    "    \n",
    "    stations = []\n",
    "    for station in json_dict[\"stations\"]:\n",
    "        station_info = []\n",
    "        station_info.append(station['name'])\n",
    "        station_info.append(station['id'])\n",
    "        station_info.append(station['lat'])\n",
    "        station_info.append(station['lng'])\n",
    "        \n",
    "        stations.append(station_info)\n",
    "    \n",
    "    df = pd.DataFrame(stations, columns=['name', 'id', 'lat', 'lng'])\n",
    "    geometry = [Point(xy) for xy in zip(df.lng, df.lat)]\n",
    "    points_gdf = gpd.GeoDataFrame(df, crs=\"EPSG:4326\", geometry=geometry)\n",
    "\n",
    "    return points_gdf"
   ]
  },
  {
   "cell_type": "code",
   "execution_count": null,
   "id": "7461af68",
   "metadata": {},
   "outputs": [],
   "source": []
  },
  {
   "cell_type": "code",
   "execution_count": 31,
   "id": "2da0b1b5",
   "metadata": {},
   "outputs": [],
   "source": [
    "points = get_stations_from_bbox()"
   ]
  },
  {
   "cell_type": "code",
   "execution_count": 52,
   "id": "140c8b5c",
   "metadata": {},
   "outputs": [],
   "source": [
    "sub_stations = points[points.within(bound_gdf.loc[0, 'geometry'])]\n",
    "sub_stations.to_csv('stations.csv', index=False)"
   ]
  },
  {
   "cell_type": "code",
   "execution_count": 53,
   "id": "b15aab24",
   "metadata": {},
   "outputs": [],
   "source": []
  },
  {
   "cell_type": "code",
   "execution_count": null,
   "id": "7fa320b1",
   "metadata": {},
   "outputs": [],
   "source": []
  },
  {
   "cell_type": "code",
   "execution_count": null,
   "id": "bd271801",
   "metadata": {},
   "outputs": [],
   "source": []
  },
  {
   "cell_type": "code",
   "execution_count": null,
   "id": "a4ab216c",
   "metadata": {},
   "outputs": [],
   "source": []
  },
  {
   "cell_type": "code",
   "execution_count": null,
   "id": "1e1e351c",
   "metadata": {},
   "outputs": [],
   "source": []
  },
  {
   "cell_type": "code",
   "execution_count": null,
   "id": "bed90ba8",
   "metadata": {},
   "outputs": [],
   "source": []
  },
  {
   "cell_type": "code",
   "execution_count": null,
   "id": "d7485dfe",
   "metadata": {},
   "outputs": [],
   "source": []
  },
  {
   "cell_type": "code",
   "execution_count": null,
   "id": "2d4aa2ee",
   "metadata": {},
   "outputs": [],
   "source": []
  }
 ],
 "metadata": {
  "kernelspec": {
   "display_name": "vims",
   "language": "python",
   "name": "vims"
  },
  "language_info": {
   "codemirror_mode": {
    "name": "ipython",
    "version": 3
   },
   "file_extension": ".py",
   "mimetype": "text/x-python",
   "name": "python",
   "nbconvert_exporter": "python",
   "pygments_lexer": "ipython3",
   "version": "3.7.10"
  }
 },
 "nbformat": 4,
 "nbformat_minor": 5
}
